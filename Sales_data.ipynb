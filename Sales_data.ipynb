{
 "cells": [
  {
   "cell_type": "markdown",
   "metadata": {},
   "source": [
    "𝐐𝐮𝐞𝐬𝐭𝐢𝐨𝐧:\n",
    " \n",
    "You are working as a Data Engineer for a company. The sales team has provided\n",
    "you with a dataset containing sales information. However, the data has some missing values\n",
    "that need to be addressed before processing. You are required to perform the following tasks:\n",
    "\n",
    "1. Loaded the sample dataset into a Pandas Dataframe\n",
    "2. Performed the below steps \n",
    "\n",
    "Transformations performed on the below requirements:\n",
    "\n",
    "a. Replace all NULL values in the Quantity column with 0.\n",
    "b. Replace all NULL values in the Price column with the average price of the existing data.\n",
    "c. Drop rows where the Product column is NULL.\n",
    "d. Fill missing Sales_Date with a default value of '2023-03-02'.\n",
    "e. Drop rows where all columns are NULL.\n",
    "\n",
    "\n",
    "In addition to above requirements I performed some additional transformations to show the data to the users."
   ]
  },
  {
   "cell_type": "code",
   "execution_count": 1,
   "metadata": {},
   "outputs": [
    {
     "name": "stdout",
     "output_type": "stream",
     "text": [
      "Requirement already satisfied: pandas in c:\\users\\battu\\appdata\\local\\programs\\python\\python313\\lib\\site-packages (2.2.3)\n",
      "Requirement already satisfied: numpy in c:\\users\\battu\\appdata\\local\\programs\\python\\python313\\lib\\site-packages (2.2.3)\n",
      "Requirement already satisfied: python-dateutil>=2.8.2 in c:\\users\\battu\\appdata\\roaming\\python\\python313\\site-packages (from pandas) (2.9.0.post0)\n",
      "Requirement already satisfied: pytz>=2020.1 in c:\\users\\battu\\appdata\\local\\programs\\python\\python313\\lib\\site-packages (from pandas) (2025.1)\n",
      "Requirement already satisfied: tzdata>=2022.7 in c:\\users\\battu\\appdata\\local\\programs\\python\\python313\\lib\\site-packages (from pandas) (2025.1)\n",
      "Requirement already satisfied: six>=1.5 in c:\\users\\battu\\appdata\\roaming\\python\\python313\\site-packages (from python-dateutil>=2.8.2->pandas) (1.17.0)\n",
      "Note: you may need to restart the kernel to use updated packages.\n"
     ]
    },
    {
     "name": "stderr",
     "output_type": "stream",
     "text": [
      "\n",
      "[notice] A new release of pip is available: 24.3.1 -> 25.0.1\n",
      "[notice] To update, run: python.exe -m pip install --upgrade pip\n"
     ]
    }
   ],
   "source": [
    "# Install the required packages\n",
    "%pip install pandas numpy\n",
    "\n",
    "import pandas as pd\n",
    "import numpy as np"
   ]
  },
  {
   "cell_type": "code",
   "execution_count": 2,
   "metadata": {},
   "outputs": [
    {
     "name": "stdout",
     "output_type": "stream",
     "text": [
      "   Sales_ID  Product  Quantity    Price Region  Sales_date\n",
      "0         1   Laptop      10.0  50000.0  North  2025-01-01\n",
      "1         2   Mobile       NaN  15000.0  South        None\n",
      "2         3   Tablet      20.0      NaN   West  2025-01-03\n",
      "3         4  Desktop      15.0  30000.0   None  2025-01-04\n",
      "4         5     None       NaN      NaN   East  2025-01-05\n"
     ]
    }
   ],
   "source": [
    "# Load the data into a DataFrame\n",
    "data = [ (1, \"Laptop\", 10, 50000, \"North\", \"2025-01-01\"), (2,\n",
    "\"Mobile\", None, 15000, \"South\", None), (3, \"Tablet\", 20, None, \"West\",\n",
    "\"2025-01-03\"), (4, \"Desktop\", 15, 30000, None, \"2025-01-04\"), (5,\n",
    "None, None, None, \"East\", \"2025-01-05\") ]\n",
    "columns = [\"Sales_ID\", \"Product\", \"Quantity\", \"Price\", \"Region\",\n",
    "\"Sales_Date\"]\n",
    "\n",
    "# Create a DataFrame\n",
    "\n",
    "df = pd.DataFrame(data, columns=[\"Sales_ID\",\"Product\",\"Quantity\",\"Price\",\"Region\",\"Sales_date\"])\n",
    "print(df)"
   ]
  },
  {
   "cell_type": "code",
   "execution_count": 3,
   "metadata": {},
   "outputs": [],
   "source": [
    "# Save the DataFrame to a SQLite database\n",
    "import sqlite3"
   ]
  },
  {
   "cell_type": "markdown",
   "metadata": {},
   "source": [
    "\n",
    "# Create SQLite in-memory database"
   ]
  },
  {
   "cell_type": "code",
   "execution_count": 4,
   "metadata": {},
   "outputs": [],
   "source": [
    "# Create a connection to the database\n",
    "conn=sqlite3.connect(\":memory:\")"
   ]
  },
  {
   "cell_type": "markdown",
   "metadata": {},
   "source": [
    "\n",
    "# load dataframe into sqlite as a table"
   ]
  },
  {
   "cell_type": "code",
   "execution_count": 5,
   "metadata": {},
   "outputs": [
    {
     "data": {
      "text/plain": [
       "5"
      ]
     },
     "execution_count": 5,
     "metadata": {},
     "output_type": "execute_result"
    }
   ],
   "source": [
    "# Save the DataFrame to the database\n",
    "df.to_sql(\"sales_tbl\",conn, index=False, if_exists=\"replace\")"
   ]
  },
  {
   "cell_type": "code",
   "execution_count": 6,
   "metadata": {},
   "outputs": [
    {
     "name": "stdout",
     "output_type": "stream",
     "text": [
      "   Sales_ID  Product  Quantity    Price Region  Sales_date\n",
      "0         1   Laptop      10.0  50000.0  North  2025-01-01\n",
      "1         2   Mobile       NaN  15000.0  South        None\n",
      "2         3   Tablet      20.0      NaN   West  2025-01-03\n",
      "3         4  Desktop      15.0  30000.0   None  2025-01-04\n",
      "4         5     None       NaN      NaN   East  2025-01-05\n"
     ]
    }
   ],
   "source": [
    "# Read the data from the database\n",
    "query=\"SELECT* FROM sales_tbl\"\n",
    "df_sql=pd.read_sql(query,conn)\n",
    "print(df_sql)"
   ]
  },
  {
   "cell_type": "code",
   "execution_count": 7,
   "metadata": {},
   "outputs": [
    {
     "name": "stdout",
     "output_type": "stream",
     "text": [
      "   Sales_ID  Product  Quantity    Price Region  Sales_date\n",
      "0         1   Laptop      10.0  50000.0  North  2025-01-01\n",
      "1         2   Mobile       0.0  15000.0  South        None\n",
      "2         3   Tablet      20.0      NaN   West  2025-01-03\n",
      "3         4  Desktop      15.0  30000.0   None  2025-01-04\n",
      "4         5     None       0.0      NaN   East  2025-01-05\n"
     ]
    }
   ],
   "source": [
    "# replace null value in qty with 0\n",
    "df_filled= df.fillna({\"Quantity\":0}) \n",
    "print(df_filled)"
   ]
  },
  {
   "cell_type": "code",
   "execution_count": 8,
   "metadata": {},
   "outputs": [
    {
     "name": "stdout",
     "output_type": "stream",
     "text": [
      "   Sales_ID  Product  Quantity    Price Region  Sales_date\n",
      "0         1   Laptop      10.0  50000.0  North  2025-01-01\n",
      "1         2   Mobile       0.0  15000.0  South        None\n",
      "2         3   Tablet      20.0      NaN   West  2025-01-03\n",
      "3         4  Desktop      15.0  30000.0   None  2025-01-04\n",
      "4         5     None       0.0      NaN   East  2025-01-05\n"
     ]
    }
   ],
   "source": [
    "# replace null Quanity with 0 using when-otherwise\n",
    "df[\"Quantity\"]=df[\"Quantity\"].fillna(0)\n",
    "print(df)"
   ]
  },
  {
   "cell_type": "code",
   "execution_count": 9,
   "metadata": {},
   "outputs": [
    {
     "name": "stdout",
     "output_type": "stream",
     "text": [
      "31666.666666666668\n"
     ]
    }
   ],
   "source": [
    "# Calculate the average price\n",
    "average = df['Price'].mean()\n",
    "print(average)"
   ]
  },
  {
   "cell_type": "code",
   "execution_count": 10,
   "metadata": {},
   "outputs": [
    {
     "name": "stdout",
     "output_type": "stream",
     "text": [
      "   Sales_ID  Product  Quantity         Price Region  Sales_date\n",
      "0         1   Laptop      10.0  50000.000000  North  2025-01-01\n",
      "1         2   Mobile       0.0  15000.000000  South        None\n",
      "2         3   Tablet      20.0  31666.666667   West  2025-01-03\n",
      "3         4  Desktop      15.0  30000.000000   None  2025-01-04\n",
      "4         5     None       0.0  31666.666667   East  2025-01-05\n"
     ]
    },
    {
     "name": "stderr",
     "output_type": "stream",
     "text": [
      "C:\\Users\\battu\\AppData\\Local\\Temp\\ipykernel_15212\\3986829372.py:2: FutureWarning: A value is trying to be set on a copy of a DataFrame or Series through chained assignment using an inplace method.\n",
      "The behavior will change in pandas 3.0. This inplace method will never work because the intermediate object on which we are setting values always behaves as a copy.\n",
      "\n",
      "For example, when doing 'df[col].method(value, inplace=True)', try using 'df.method({col: value}, inplace=True)' or df[col] = df[col].method(value) instead, to perform the operation inplace on the original object.\n",
      "\n",
      "\n",
      "  df['Price'].fillna(average, inplace=True)\n"
     ]
    }
   ],
   "source": [
    "# replace null values in Price with average column with using pandas\n",
    "df['Price'].fillna(average, inplace=True)\n",
    "print(df)"
   ]
  },
  {
   "cell_type": "code",
   "execution_count": 11,
   "metadata": {},
   "outputs": [
    {
     "name": "stdout",
     "output_type": "stream",
     "text": [
      "   Sales_ID  Product  Quantity         Price Region  Sales_date\n",
      "0         1   Laptop      10.0  50000.000000  North  2025-01-01\n",
      "1         2   Mobile       0.0  15000.000000  South        None\n",
      "2         3   Tablet      20.0  31666.666667   West  2025-01-03\n",
      "3         4  Desktop      15.0  30000.000000   None  2025-01-04\n",
      "4         5     None       0.0  31666.666667   East  2025-01-05\n"
     ]
    },
    {
     "name": "stderr",
     "output_type": "stream",
     "text": [
      "C:\\Users\\battu\\AppData\\Local\\Temp\\ipykernel_15212\\1123923092.py:2: FutureWarning: A value is trying to be set on a copy of a DataFrame or Series through chained assignment using an inplace method.\n",
      "The behavior will change in pandas 3.0. This inplace method will never work because the intermediate object on which we are setting values always behaves as a copy.\n",
      "\n",
      "For example, when doing 'df[col].method(value, inplace=True)', try using 'df.method({col: value}, inplace=True)' or df[col] = df[col].method(value) instead, to perform the operation inplace on the original object.\n",
      "\n",
      "\n",
      "  df['Price'].replace(0, 19000, inplace=True)\n"
     ]
    }
   ],
   "source": [
    "# Replace 0 values in 'Price' with 19000\n",
    "df['Price'].replace(0, 19000, inplace=True)\n",
    "\n",
    "# Display the updated DataFrame\n",
    "print(df)\n"
   ]
  },
  {
   "cell_type": "code",
   "execution_count": 12,
   "metadata": {},
   "outputs": [
    {
     "name": "stdout",
     "output_type": "stream",
     "text": [
      "   Sales_ID  Product  Quantity         Price Region  Sales_date\n",
      "0         1   Laptop      10.0  50000.000000  North  2025-01-01\n",
      "1         2   Mobile       0.0  15000.000000  South        None\n",
      "2         3   Tablet      20.0  31666.666667   West  2025-01-03\n",
      "3         4  Desktop      15.0  30000.000000   None  2025-01-04\n",
      "4         5     None       0.0  31666.666667   East  2025-01-05\n"
     ]
    }
   ],
   "source": [
    "# Replace null values in price column with average value\n",
    "df['Price'] = df['Price'].apply(lambda x: average if pd.isnull(x) else x)\n",
    "print(df)"
   ]
  },
  {
   "cell_type": "code",
   "execution_count": 13,
   "metadata": {},
   "outputs": [
    {
     "name": "stdout",
     "output_type": "stream",
     "text": [
      "   Sales_ID  Product  Quantity         Price Region  Sales_date\n",
      "0         1   Laptop      10.0  50000.000000  North  2025-01-01\n",
      "1         2   Mobile       0.0  15000.000000  South        None\n",
      "2         3   Tablet      20.0  31666.666667   West  2025-01-03\n",
      "3         4  Desktop      15.0  30000.000000   None  2025-01-04\n",
      "4         5     None       0.0  31666.666667   East  2025-01-05\n"
     ]
    }
   ],
   "source": [
    "# print first 5 rows\n",
    "print(df.head())\n"
   ]
  },
  {
   "cell_type": "code",
   "execution_count": 14,
   "metadata": {},
   "outputs": [
    {
     "name": "stdout",
     "output_type": "stream",
     "text": [
      "   Sales_ID  Product  Quantity         Price Region  Sales_date\n",
      "3         4  Desktop      15.0  30000.000000   None  2025-01-04\n",
      "4         5     None       0.0  31666.666667   East  2025-01-05\n"
     ]
    }
   ],
   "source": [
    "# print last 2 rows\n",
    "print(df.tail(2))"
   ]
  },
  {
   "cell_type": "code",
   "execution_count": 15,
   "metadata": {},
   "outputs": [
    {
     "name": "stdout",
     "output_type": "stream",
     "text": [
      "   Sales_ID  Product  Quantity         Price Region  Sales_date\n",
      "0         1   Laptop      10.0  50000.000000  North  2025-01-01\n",
      "1         2   Mobile       0.0  15000.000000  South        None\n",
      "2         3   Tablet      20.0  31666.666667   West  2025-01-03\n",
      "3         4  Desktop      15.0  30000.000000   None  2025-01-04\n",
      "4         5     None       0.0  31666.666667   East  2025-01-05\n"
     ]
    }
   ],
   "source": [
    "# print last 5 rows\n",
    "print(df.tail())"
   ]
  },
  {
   "cell_type": "code",
   "execution_count": 16,
   "metadata": {},
   "outputs": [
    {
     "name": "stdout",
     "output_type": "stream",
     "text": [
      "   Sales_ID  Product  Quantity         Price Region  Sales_date\n",
      "0         1   Laptop      10.0  50000.000000  North  2025-01-01\n",
      "1         2   Mobile       0.0  15000.000000  South        None\n",
      "2         3   Tablet      20.0  31666.666667   West  2025-01-03\n",
      "3         4  Desktop      15.0  30000.000000   None  2025-01-04\n"
     ]
    }
   ],
   "source": [
    "# drop rows where all columns are null\n",
    "df = df[df[\"Product\"].notna()]\n",
    "print(df)"
   ]
  },
  {
   "cell_type": "code",
   "execution_count": 17,
   "metadata": {},
   "outputs": [
    {
     "name": "stdout",
     "output_type": "stream",
     "text": [
      "   Sales_ID  Product  Quantity         Price Region Sales_date\n",
      "0         1   Laptop      10.0  50000.000000  North 2025-01-01\n",
      "1         2   Mobile       0.0  15000.000000  South 2023-03-02\n",
      "2         3   Tablet      20.0  31666.666667   West 2025-01-03\n",
      "3         4  Desktop      15.0  30000.000000   None 2025-01-04\n"
     ]
    }
   ],
   "source": [
    "# Ensure that the 'Sales_date' column is in datetime format\n",
    "df['Sales_date'] = pd.to_datetime(df['Sales_date'], errors='coerce')  # Ensure correct date format\n",
    "\n",
    "# Fill missing values with a default date (e.g., 2023-03-02)\n",
    "df['Sales_date'] = df['Sales_date'].fillna(pd.to_datetime('2023-03-02'))  # Filling missing values with a default date\n",
    "\n",
    "# Print the DataFrame to check the result\n",
    "print(df)\n"
   ]
  },
  {
   "cell_type": "code",
   "execution_count": 18,
   "metadata": {},
   "outputs": [
    {
     "name": "stdout",
     "output_type": "stream",
     "text": [
      "   Sales_ID  Product  Quantity         Price Region Sales_date\n",
      "0         1   Laptop      10.0  50000.000000  North 2025-01-01\n",
      "1         2   Mobile       5.0  15000.000000  South 2023-03-02\n",
      "2         3   Tablet      20.0  31666.666667   West 2025-01-03\n",
      "3         4  Desktop      15.0  30000.000000   None 2025-01-04\n"
     ]
    }
   ],
   "source": [
    "# fill quantity value which is zero with value 5\n",
    "df['Quantity'] = df['Quantity'].replace(0, 5)\n",
    "print(df)"
   ]
  },
  {
   "cell_type": "code",
   "execution_count": 19,
   "metadata": {},
   "outputs": [
    {
     "name": "stdout",
     "output_type": "stream",
     "text": [
      "   Sales_ID  Product  Quantity         Price Region Sales_date\n",
      "0         1   Laptop      10.0  50000.000000  North 2025-01-01\n",
      "1         2   Mobile       6.0  15000.000000  South 2023-03-02\n",
      "2         3   Tablet      20.0  31666.666667   West 2025-01-03\n",
      "3         4  Desktop      15.0  30000.000000   None 2025-01-04\n"
     ]
    }
   ],
   "source": [
    "# fill value of quantity with 5 to 6\n",
    "df['Quantity'] = df['Quantity'].replace(5, 6)\n",
    "print(df)"
   ]
  },
  {
   "cell_type": "code",
   "execution_count": 20,
   "metadata": {},
   "outputs": [
    {
     "data": {
      "text/plain": [
       "0    10.0\n",
       "1     6.0\n",
       "2    20.0\n",
       "3    15.0\n",
       "Name: Quantity, dtype: float64"
      ]
     },
     "execution_count": 20,
     "metadata": {},
     "output_type": "execute_result"
    }
   ],
   "source": [
    "df[\"Quantity\"].fillna(0)"
   ]
  },
  {
   "cell_type": "code",
   "execution_count": 21,
   "metadata": {},
   "outputs": [
    {
     "data": {
      "text/plain": [
       "0    50000.000000\n",
       "1    15000.000000\n",
       "2    31666.666667\n",
       "3    30000.000000\n",
       "Name: Price, dtype: float64"
      ]
     },
     "execution_count": 21,
     "metadata": {},
     "output_type": "execute_result"
    }
   ],
   "source": [
    "df[\"Price\"].fillna(df[\"Price\"].mean())"
   ]
  },
  {
   "cell_type": "code",
   "execution_count": 22,
   "metadata": {},
   "outputs": [
    {
     "data": {
      "application/vnd.microsoft.datawrangler.viewer.v0+json": {
       "columns": [
        {
         "name": "index",
         "rawType": "int64",
         "type": "integer"
        },
        {
         "name": "Sales_ID",
         "rawType": "int64",
         "type": "integer"
        },
        {
         "name": "Product",
         "rawType": "object",
         "type": "string"
        },
        {
         "name": "Quantity",
         "rawType": "float64",
         "type": "float"
        },
        {
         "name": "Price",
         "rawType": "float64",
         "type": "float"
        },
        {
         "name": "Region",
         "rawType": "object",
         "type": "unknown"
        },
        {
         "name": "Sales_date",
         "rawType": "datetime64[ns]",
         "type": "datetime"
        }
       ],
       "conversionMethod": "pd.DataFrame",
       "ref": "13200995-d6a9-49a3-b031-a29ae1fa5ee1",
       "rows": [
        [
         "0",
         "1",
         "Laptop",
         "10.0",
         "50000.0",
         "North",
         "2025-01-01 00:00:00"
        ],
        [
         "1",
         "2",
         "Mobile",
         "6.0",
         "15000.0",
         "South",
         "2023-03-02 00:00:00"
        ],
        [
         "2",
         "3",
         "Tablet",
         "20.0",
         "31666.666666666668",
         "West",
         "2025-01-03 00:00:00"
        ],
        [
         "3",
         "4",
         "Desktop",
         "15.0",
         "30000.0",
         null,
         "2025-01-04 00:00:00"
        ]
       ],
       "shape": {
        "columns": 6,
        "rows": 4
       }
      },
      "text/html": [
       "<div>\n",
       "<style scoped>\n",
       "    .dataframe tbody tr th:only-of-type {\n",
       "        vertical-align: middle;\n",
       "    }\n",
       "\n",
       "    .dataframe tbody tr th {\n",
       "        vertical-align: top;\n",
       "    }\n",
       "\n",
       "    .dataframe thead th {\n",
       "        text-align: right;\n",
       "    }\n",
       "</style>\n",
       "<table border=\"1\" class=\"dataframe\">\n",
       "  <thead>\n",
       "    <tr style=\"text-align: right;\">\n",
       "      <th></th>\n",
       "      <th>Sales_ID</th>\n",
       "      <th>Product</th>\n",
       "      <th>Quantity</th>\n",
       "      <th>Price</th>\n",
       "      <th>Region</th>\n",
       "      <th>Sales_date</th>\n",
       "    </tr>\n",
       "  </thead>\n",
       "  <tbody>\n",
       "    <tr>\n",
       "      <th>0</th>\n",
       "      <td>1</td>\n",
       "      <td>Laptop</td>\n",
       "      <td>10.0</td>\n",
       "      <td>50000.000000</td>\n",
       "      <td>North</td>\n",
       "      <td>2025-01-01</td>\n",
       "    </tr>\n",
       "    <tr>\n",
       "      <th>1</th>\n",
       "      <td>2</td>\n",
       "      <td>Mobile</td>\n",
       "      <td>6.0</td>\n",
       "      <td>15000.000000</td>\n",
       "      <td>South</td>\n",
       "      <td>2023-03-02</td>\n",
       "    </tr>\n",
       "    <tr>\n",
       "      <th>2</th>\n",
       "      <td>3</td>\n",
       "      <td>Tablet</td>\n",
       "      <td>20.0</td>\n",
       "      <td>31666.666667</td>\n",
       "      <td>West</td>\n",
       "      <td>2025-01-03</td>\n",
       "    </tr>\n",
       "    <tr>\n",
       "      <th>3</th>\n",
       "      <td>4</td>\n",
       "      <td>Desktop</td>\n",
       "      <td>15.0</td>\n",
       "      <td>30000.000000</td>\n",
       "      <td>None</td>\n",
       "      <td>2025-01-04</td>\n",
       "    </tr>\n",
       "  </tbody>\n",
       "</table>\n",
       "</div>"
      ],
      "text/plain": [
       "   Sales_ID  Product  Quantity         Price Region Sales_date\n",
       "0         1   Laptop      10.0  50000.000000  North 2025-01-01\n",
       "1         2   Mobile       6.0  15000.000000  South 2023-03-02\n",
       "2         3   Tablet      20.0  31666.666667   West 2025-01-03\n",
       "3         4  Desktop      15.0  30000.000000   None 2025-01-04"
      ]
     },
     "execution_count": 22,
     "metadata": {},
     "output_type": "execute_result"
    }
   ],
   "source": [
    "# drop row where Product column is null\n",
    "df.dropna(subset=[\"Product\"])"
   ]
  },
  {
   "cell_type": "code",
   "execution_count": 23,
   "metadata": {},
   "outputs": [
    {
     "data": {
      "application/vnd.microsoft.datawrangler.viewer.v0+json": {
       "columns": [
        {
         "name": "index",
         "rawType": "int64",
         "type": "integer"
        },
        {
         "name": "Sales_ID",
         "rawType": "int64",
         "type": "integer"
        },
        {
         "name": "Product",
         "rawType": "object",
         "type": "string"
        },
        {
         "name": "Quantity",
         "rawType": "float64",
         "type": "float"
        },
        {
         "name": "Price",
         "rawType": "float64",
         "type": "float"
        },
        {
         "name": "Region",
         "rawType": "object",
         "type": "unknown"
        },
        {
         "name": "Sales_date",
         "rawType": "datetime64[ns]",
         "type": "datetime"
        }
       ],
       "conversionMethod": "pd.DataFrame",
       "ref": "2a77b3a3-79f4-4c84-8b5a-36a2f1505b8c",
       "rows": [
        [
         "0",
         "1",
         "Laptop",
         "10.0",
         "50000.0",
         "North",
         "2025-01-01 00:00:00"
        ],
        [
         "1",
         "2",
         "Mobile",
         "6.0",
         "15000.0",
         "South",
         "2023-03-02 00:00:00"
        ],
        [
         "2",
         "3",
         "Tablet",
         "20.0",
         "31666.666666666668",
         "West",
         "2025-01-03 00:00:00"
        ],
        [
         "3",
         "4",
         "Desktop",
         "15.0",
         "30000.0",
         null,
         "2025-01-04 00:00:00"
        ]
       ],
       "shape": {
        "columns": 6,
        "rows": 4
       }
      },
      "text/html": [
       "<div>\n",
       "<style scoped>\n",
       "    .dataframe tbody tr th:only-of-type {\n",
       "        vertical-align: middle;\n",
       "    }\n",
       "\n",
       "    .dataframe tbody tr th {\n",
       "        vertical-align: top;\n",
       "    }\n",
       "\n",
       "    .dataframe thead th {\n",
       "        text-align: right;\n",
       "    }\n",
       "</style>\n",
       "<table border=\"1\" class=\"dataframe\">\n",
       "  <thead>\n",
       "    <tr style=\"text-align: right;\">\n",
       "      <th></th>\n",
       "      <th>Sales_ID</th>\n",
       "      <th>Product</th>\n",
       "      <th>Quantity</th>\n",
       "      <th>Price</th>\n",
       "      <th>Region</th>\n",
       "      <th>Sales_date</th>\n",
       "    </tr>\n",
       "  </thead>\n",
       "  <tbody>\n",
       "    <tr>\n",
       "      <th>0</th>\n",
       "      <td>1</td>\n",
       "      <td>Laptop</td>\n",
       "      <td>10.0</td>\n",
       "      <td>50000.000000</td>\n",
       "      <td>North</td>\n",
       "      <td>2025-01-01</td>\n",
       "    </tr>\n",
       "    <tr>\n",
       "      <th>1</th>\n",
       "      <td>2</td>\n",
       "      <td>Mobile</td>\n",
       "      <td>6.0</td>\n",
       "      <td>15000.000000</td>\n",
       "      <td>South</td>\n",
       "      <td>2023-03-02</td>\n",
       "    </tr>\n",
       "    <tr>\n",
       "      <th>2</th>\n",
       "      <td>3</td>\n",
       "      <td>Tablet</td>\n",
       "      <td>20.0</td>\n",
       "      <td>31666.666667</td>\n",
       "      <td>West</td>\n",
       "      <td>2025-01-03</td>\n",
       "    </tr>\n",
       "    <tr>\n",
       "      <th>3</th>\n",
       "      <td>4</td>\n",
       "      <td>Desktop</td>\n",
       "      <td>15.0</td>\n",
       "      <td>30000.000000</td>\n",
       "      <td>None</td>\n",
       "      <td>2025-01-04</td>\n",
       "    </tr>\n",
       "  </tbody>\n",
       "</table>\n",
       "</div>"
      ],
      "text/plain": [
       "   Sales_ID  Product  Quantity         Price Region Sales_date\n",
       "0         1   Laptop      10.0  50000.000000  North 2025-01-01\n",
       "1         2   Mobile       6.0  15000.000000  South 2023-03-02\n",
       "2         3   Tablet      20.0  31666.666667   West 2025-01-03\n",
       "3         4  Desktop      15.0  30000.000000   None 2025-01-04"
      ]
     },
     "execution_count": 23,
     "metadata": {},
     "output_type": "execute_result"
    }
   ],
   "source": [
    "# drop rows where all columns are null in pandas\n",
    "df.dropna(how=\"all\")"
   ]
  },
  {
   "cell_type": "code",
   "execution_count": null,
   "metadata": {},
   "outputs": [],
   "source": []
  }
 ],
 "metadata": {
  "kernelspec": {
   "display_name": "Python 3",
   "language": "python",
   "name": "python3"
  },
  "language_info": {
   "codemirror_mode": {
    "name": "ipython",
    "version": 3
   },
   "file_extension": ".py",
   "mimetype": "text/x-python",
   "name": "python",
   "nbconvert_exporter": "python",
   "pygments_lexer": "ipython3",
   "version": "3.13.1"
  }
 },
 "nbformat": 4,
 "nbformat_minor": 2
}
