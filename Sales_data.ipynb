{
 "cells": [
  {
   "cell_type": "code",
   "execution_count": 62,
   "metadata": {},
   "outputs": [
    {
     "ename": "SyntaxError",
     "evalue": "invalid syntax (745705800.py, line 1)",
     "output_type": "error",
     "traceback": [
      "  \u001b[36mCell\u001b[39m\u001b[36m \u001b[39m\u001b[32mIn[62]\u001b[39m\u001b[32m, line 1\u001b[39m\n\u001b[31m    \u001b[39m\u001b[31m1. Load the following sample dataset into a PySpark DataFrame:\u001b[39m\n       ^\n\u001b[31mSyntaxError\u001b[39m\u001b[31m:\u001b[39m invalid syntax\n"
     ]
    }
   ],
   "source": [
    "1. Load the following sample dataset into a PySpark DataFrame:"
   ]
  },
  {
   "cell_type": "code",
   "execution_count": null,
   "metadata": {},
   "outputs": [],
   "source": [
    "# from pyspark.sql import SparkSession\n",
    "\n",
    "# # Initialize Spark session\n",
    "# spark = SparkSession.builder.appName(\"SalesData\").getOrCreate()\n"
   ]
  },
  {
   "cell_type": "code",
   "execution_count": 1,
   "metadata": {},
   "outputs": [
    {
     "name": "stdout",
     "output_type": "stream",
     "text": [
      "Requirement already satisfied: pandas in c:\\users\\battu\\appdata\\local\\programs\\python\\python313\\lib\\site-packages (2.2.3)\n",
      "Requirement already satisfied: numpy in c:\\users\\battu\\appdata\\local\\programs\\python\\python313\\lib\\site-packages (2.2.3)\n",
      "Requirement already satisfied: python-dateutil>=2.8.2 in c:\\users\\battu\\appdata\\roaming\\python\\python313\\site-packages (from pandas) (2.9.0.post0)\n",
      "Requirement already satisfied: pytz>=2020.1 in c:\\users\\battu\\appdata\\local\\programs\\python\\python313\\lib\\site-packages (from pandas) (2025.1)\n",
      "Requirement already satisfied: tzdata>=2022.7 in c:\\users\\battu\\appdata\\local\\programs\\python\\python313\\lib\\site-packages (from pandas) (2025.1)\n",
      "Requirement already satisfied: six>=1.5 in c:\\users\\battu\\appdata\\roaming\\python\\python313\\site-packages (from python-dateutil>=2.8.2->pandas) (1.17.0)\n",
      "Note: you may need to restart the kernel to use updated packages.\n"
     ]
    },
    {
     "name": "stderr",
     "output_type": "stream",
     "text": [
      "\n",
      "[notice] A new release of pip is available: 24.3.1 -> 25.0.1\n",
      "[notice] To update, run: python.exe -m pip install --upgrade pip\n"
     ]
    }
   ],
   "source": [
    "%pip install pandas numpy\n",
    "\n",
    "import pandas as pd\n",
    "import numpy as np"
   ]
  },
  {
   "cell_type": "code",
   "execution_count": 2,
   "metadata": {},
   "outputs": [
    {
     "name": "stdout",
     "output_type": "stream",
     "text": [
      "   Sales_ID  Product  Quantity    Price Region  Sales_date\n",
      "0         1   Laptop      10.0  50000.0  North  2025-01-01\n",
      "1         2   Mobile       NaN  15000.0  South        None\n",
      "2         3   Tablet      20.0      NaN   West  2025-01-03\n",
      "3         4  Desktop      15.0  30000.0   None  2025-01-04\n",
      "4         5     None       NaN      NaN   East  2025-01-05\n"
     ]
    }
   ],
   "source": [
    "data = [ (1, \"Laptop\", 10, 50000, \"North\", \"2025-01-01\"), (2,\n",
    "\"Mobile\", None, 15000, \"South\", None), (3, \"Tablet\", 20, None, \"West\",\n",
    "\"2025-01-03\"), (4, \"Desktop\", 15, 30000, None, \"2025-01-04\"), (5,\n",
    "None, None, None, \"East\", \"2025-01-05\") ]\n",
    "columns = [\"Sales_ID\", \"Product\", \"Quantity\", \"Price\", \"Region\",\n",
    "\"Sales_Date\"]\n",
    "\n",
    "\n",
    "df = pd.DataFrame(data, columns=[\"Sales_ID\",\"Product\",\"Quantity\",\"Price\",\"Region\",\"Sales_date\"])\n",
    "print(df)"
   ]
  },
  {
   "cell_type": "code",
   "execution_count": 3,
   "metadata": {},
   "outputs": [],
   "source": [
    "import sqlite3"
   ]
  },
  {
   "cell_type": "markdown",
   "metadata": {},
   "source": [
    "\n",
    "# Create SQLite in-memory database"
   ]
  },
  {
   "cell_type": "code",
   "execution_count": 4,
   "metadata": {},
   "outputs": [],
   "source": [
    "conn=sqlite3.connect(\":memory:\")"
   ]
  },
  {
   "cell_type": "markdown",
   "metadata": {},
   "source": [
    "\n",
    "# load dataframe into sqlite as a table"
   ]
  },
  {
   "cell_type": "code",
   "execution_count": 5,
   "metadata": {},
   "outputs": [
    {
     "data": {
      "text/plain": [
       "5"
      ]
     },
     "execution_count": 5,
     "metadata": {},
     "output_type": "execute_result"
    }
   ],
   "source": [
    "df.to_sql(\"sales_tbl\",conn, index=False, if_exists=\"replace\")"
   ]
  },
  {
   "cell_type": "code",
   "execution_count": 6,
   "metadata": {},
   "outputs": [
    {
     "name": "stdout",
     "output_type": "stream",
     "text": [
      "   Sales_ID  Product  Quantity    Price Region  Sales_date\n",
      "0         1   Laptop      10.0  50000.0  North  2025-01-01\n",
      "1         2   Mobile       NaN  15000.0  South        None\n",
      "2         3   Tablet      20.0      NaN   West  2025-01-03\n",
      "3         4  Desktop      15.0  30000.0   None  2025-01-04\n",
      "4         5     None       NaN      NaN   East  2025-01-05\n"
     ]
    }
   ],
   "source": [
    "query=\"SELECT* FROM sales_tbl\"\n",
    "df_sql=pd.read_sql(query,conn)\n",
    "print(df_sql)"
   ]
  },
  {
   "cell_type": "code",
   "execution_count": 9,
   "metadata": {},
   "outputs": [
    {
     "name": "stdout",
     "output_type": "stream",
     "text": [
      "   Sales_ID  Product  Quantity    Price Region  Sales_date\n",
      "0         1   Laptop      10.0  50000.0  North  2025-01-01\n",
      "1         2   Mobile       0.0  15000.0  South        None\n",
      "2         3   Tablet      20.0      NaN   West  2025-01-03\n",
      "3         4  Desktop      15.0  30000.0   None  2025-01-04\n",
      "4         5     None       0.0      NaN   East  2025-01-05\n"
     ]
    }
   ],
   "source": [
    "# replace null value in qty with 0\n",
    "df_filled= df.fillna({\"Quantity\":0}) \n",
    "print(df_filled)"
   ]
  },
  {
   "cell_type": "code",
   "execution_count": 8,
   "metadata": {},
   "outputs": [
    {
     "name": "stdout",
     "output_type": "stream",
     "text": [
      "   Sales_ID  Product  Quantity    Price Region  Sales_date\n",
      "0         1   Laptop      10.0  50000.0  North  2025-01-01\n",
      "1         2   Mobile       0.0  15000.0  South        None\n",
      "2         3   Tablet      20.0      NaN   West  2025-01-03\n",
      "3         4  Desktop      15.0  30000.0   None  2025-01-04\n",
      "4         5     None       0.0      NaN   East  2025-01-05\n"
     ]
    }
   ],
   "source": [
    "# replace null Quanity with 0 using when-otherwise\n",
    "df[\"Quantity\"]=df[\"Quantity\"].fillna(0)\n",
    "print(df)"
   ]
  },
  {
   "cell_type": "code",
   "execution_count": 11,
   "metadata": {},
   "outputs": [
    {
     "name": "stdout",
     "output_type": "stream",
     "text": [
      "   Sales_ID  Product  Quantity    Price Region  Sales_date\n",
      "0         1   Laptop      10.0  50000.0  North  2025-01-01\n",
      "1         2   Mobile       0.0  15000.0  South        None\n",
      "2         3   Tablet      20.0      0.0   West  2025-01-03\n",
      "3         4  Desktop      15.0  30000.0   None  2025-01-04\n",
      "4         5     None       0.0      0.0   East  2025-01-05\n"
     ]
    }
   ],
   "source": [
    "df[\"Price\"]=df[\"Price\"].fillna(0)\n",
    "print(df)"
   ]
  },
  {
   "cell_type": "code",
   "execution_count": 13,
   "metadata": {},
   "outputs": [
    {
     "name": "stdout",
     "output_type": "stream",
     "text": [
      "19000.0\n"
     ]
    }
   ],
   "source": [
    "# replace null values in Price with average column\n",
    "# df['Price'].fillna(Price, inplace=True)\n",
    "average = df['Price'].mean()\n",
    "print(average)"
   ]
  }
 ],
 "metadata": {
  "kernelspec": {
   "display_name": "Python 3",
   "language": "python",
   "name": "python3"
  },
  "language_info": {
   "codemirror_mode": {
    "name": "ipython",
    "version": 3
   },
   "file_extension": ".py",
   "mimetype": "text/x-python",
   "name": "python",
   "nbconvert_exporter": "python",
   "pygments_lexer": "ipython3",
   "version": "3.13.1"
  }
 },
 "nbformat": 4,
 "nbformat_minor": 2
}
